{
 "cells": [
  {
   "cell_type": "markdown",
   "metadata": {},
   "source": [
    "# PANDAS SALES ANALYSIS - SUPERSTORE DATA"
   ]
  },
  {
   "cell_type": "markdown",
   "metadata": {},
   "source": [
    "## OBJECTIVE"
   ]
  },
  {
   "cell_type": "markdown",
   "metadata": {},
   "source": [
    "### To answer questions through our data analysis using Python Pandas and Python Matplotlib library\n",
    "\n",
    "- What is the overall sales trend?\n",
    "- Which are the top 10 products by sales?\n",
    "- Which are the most selling products?\n",
    "- Which is the most preferred Ship Mode?\n",
    "- Which are the most profitable Product Category and Sub-Category?"
   ]
  },
  {
   "cell_type": "markdown",
   "metadata": {},
   "source": [
    "----"
   ]
  },
  {
   "cell_type": "markdown",
   "metadata": {},
   "source": [
    "<h3> IMPORTING REQUIRED LIBRARIES"
   ]
  },
  {
   "cell_type": "code",
   "execution_count": 3,
   "metadata": {},
   "outputs": [],
   "source": [
    "# Data Manipulation\n",
    "import pandas as pd\n",
    "\n",
    "# Data Visualization\n",
    "import matplotlib.pyplot as plt\n",
    "%matplotlib inline\n",
    "\n",
    "import seaborn as sns"
   ]
  },
  {
   "cell_type": "markdown",
   "metadata": {},
   "source": [
    "<h3> IMPORTING THE DATASET"
   ]
  },
  {
   "cell_type": "code",
   "execution_count": 5,
   "metadata": {},
   "outputs": [],
   "source": [
    "df = pd.read_excel('superstore_sales.xlsx')"
   ]
  },
  {
   "cell_type": "markdown",
   "metadata": {},
   "source": [
    "<h3> DATA AUDITING"
   ]
  },
  {
   "cell_type": "code",
   "execution_count": 8,
   "metadata": {},
   "outputs": [
    {
     "data": {
      "text/html": [
       "<div>\n",
       "<style scoped>\n",
       "    .dataframe tbody tr th:only-of-type {\n",
       "        vertical-align: middle;\n",
       "    }\n",
       "\n",
       "    .dataframe tbody tr th {\n",
       "        vertical-align: top;\n",
       "    }\n",
       "\n",
       "    .dataframe thead th {\n",
       "        text-align: right;\n",
       "    }\n",
       "</style>\n",
       "<table border=\"1\" class=\"dataframe\">\n",
       "  <thead>\n",
       "    <tr style=\"text-align: right;\">\n",
       "      <th></th>\n",
       "      <th>order_id</th>\n",
       "      <th>order_date</th>\n",
       "      <th>ship_date</th>\n",
       "      <th>ship_mode</th>\n",
       "      <th>customer_name</th>\n",
       "      <th>segment</th>\n",
       "      <th>state</th>\n",
       "      <th>country</th>\n",
       "      <th>market</th>\n",
       "      <th>region</th>\n",
       "      <th>...</th>\n",
       "      <th>category</th>\n",
       "      <th>sub_category</th>\n",
       "      <th>product_name</th>\n",
       "      <th>sales</th>\n",
       "      <th>quantity</th>\n",
       "      <th>discount</th>\n",
       "      <th>profit</th>\n",
       "      <th>shipping_cost</th>\n",
       "      <th>order_priority</th>\n",
       "      <th>year</th>\n",
       "    </tr>\n",
       "  </thead>\n",
       "  <tbody>\n",
       "    <tr>\n",
       "      <th>0</th>\n",
       "      <td>AG-2011-2040</td>\n",
       "      <td>2011-01-01</td>\n",
       "      <td>2011-01-06</td>\n",
       "      <td>Standard Class</td>\n",
       "      <td>Toby Braunhardt</td>\n",
       "      <td>Consumer</td>\n",
       "      <td>Constantine</td>\n",
       "      <td>Algeria</td>\n",
       "      <td>Africa</td>\n",
       "      <td>Africa</td>\n",
       "      <td>...</td>\n",
       "      <td>Office Supplies</td>\n",
       "      <td>Storage</td>\n",
       "      <td>Tenex Lockers, Blue</td>\n",
       "      <td>408.300</td>\n",
       "      <td>2</td>\n",
       "      <td>0.0</td>\n",
       "      <td>106.140</td>\n",
       "      <td>35.46</td>\n",
       "      <td>Medium</td>\n",
       "      <td>2011</td>\n",
       "    </tr>\n",
       "    <tr>\n",
       "      <th>1</th>\n",
       "      <td>IN-2011-47883</td>\n",
       "      <td>2011-01-01</td>\n",
       "      <td>2011-01-08</td>\n",
       "      <td>Standard Class</td>\n",
       "      <td>Joseph Holt</td>\n",
       "      <td>Consumer</td>\n",
       "      <td>New South Wales</td>\n",
       "      <td>Australia</td>\n",
       "      <td>APAC</td>\n",
       "      <td>Oceania</td>\n",
       "      <td>...</td>\n",
       "      <td>Office Supplies</td>\n",
       "      <td>Supplies</td>\n",
       "      <td>Acme Trimmer, High Speed</td>\n",
       "      <td>120.366</td>\n",
       "      <td>3</td>\n",
       "      <td>0.1</td>\n",
       "      <td>36.036</td>\n",
       "      <td>9.72</td>\n",
       "      <td>Medium</td>\n",
       "      <td>2011</td>\n",
       "    </tr>\n",
       "    <tr>\n",
       "      <th>2</th>\n",
       "      <td>HU-2011-1220</td>\n",
       "      <td>2011-01-01</td>\n",
       "      <td>2011-01-05</td>\n",
       "      <td>Second Class</td>\n",
       "      <td>Annie Thurman</td>\n",
       "      <td>Consumer</td>\n",
       "      <td>Budapest</td>\n",
       "      <td>Hungary</td>\n",
       "      <td>EMEA</td>\n",
       "      <td>EMEA</td>\n",
       "      <td>...</td>\n",
       "      <td>Office Supplies</td>\n",
       "      <td>Storage</td>\n",
       "      <td>Tenex Box, Single Width</td>\n",
       "      <td>66.120</td>\n",
       "      <td>4</td>\n",
       "      <td>0.0</td>\n",
       "      <td>29.640</td>\n",
       "      <td>8.17</td>\n",
       "      <td>High</td>\n",
       "      <td>2011</td>\n",
       "    </tr>\n",
       "    <tr>\n",
       "      <th>3</th>\n",
       "      <td>IT-2011-3647632</td>\n",
       "      <td>2011-01-01</td>\n",
       "      <td>2011-01-05</td>\n",
       "      <td>Second Class</td>\n",
       "      <td>Eugene Moren</td>\n",
       "      <td>Home Office</td>\n",
       "      <td>Stockholm</td>\n",
       "      <td>Sweden</td>\n",
       "      <td>EU</td>\n",
       "      <td>North</td>\n",
       "      <td>...</td>\n",
       "      <td>Office Supplies</td>\n",
       "      <td>Paper</td>\n",
       "      <td>Enermax Note Cards, Premium</td>\n",
       "      <td>44.865</td>\n",
       "      <td>3</td>\n",
       "      <td>0.5</td>\n",
       "      <td>-26.055</td>\n",
       "      <td>4.82</td>\n",
       "      <td>High</td>\n",
       "      <td>2011</td>\n",
       "    </tr>\n",
       "    <tr>\n",
       "      <th>4</th>\n",
       "      <td>IN-2011-47883</td>\n",
       "      <td>2011-01-01</td>\n",
       "      <td>2011-01-08</td>\n",
       "      <td>Standard Class</td>\n",
       "      <td>Joseph Holt</td>\n",
       "      <td>Consumer</td>\n",
       "      <td>New South Wales</td>\n",
       "      <td>Australia</td>\n",
       "      <td>APAC</td>\n",
       "      <td>Oceania</td>\n",
       "      <td>...</td>\n",
       "      <td>Furniture</td>\n",
       "      <td>Furnishings</td>\n",
       "      <td>Eldon Light Bulb, Duo Pack</td>\n",
       "      <td>113.670</td>\n",
       "      <td>5</td>\n",
       "      <td>0.1</td>\n",
       "      <td>37.770</td>\n",
       "      <td>4.70</td>\n",
       "      <td>Medium</td>\n",
       "      <td>2011</td>\n",
       "    </tr>\n",
       "  </tbody>\n",
       "</table>\n",
       "<p>5 rows × 21 columns</p>\n",
       "</div>"
      ],
      "text/plain": [
       "          order_id order_date  ship_date       ship_mode    customer_name  \\\n",
       "0     AG-2011-2040 2011-01-01 2011-01-06  Standard Class  Toby Braunhardt   \n",
       "1    IN-2011-47883 2011-01-01 2011-01-08  Standard Class      Joseph Holt   \n",
       "2     HU-2011-1220 2011-01-01 2011-01-05    Second Class    Annie Thurman   \n",
       "3  IT-2011-3647632 2011-01-01 2011-01-05    Second Class     Eugene Moren   \n",
       "4    IN-2011-47883 2011-01-01 2011-01-08  Standard Class      Joseph Holt   \n",
       "\n",
       "       segment            state    country  market   region  ...  \\\n",
       "0     Consumer      Constantine    Algeria  Africa   Africa  ...   \n",
       "1     Consumer  New South Wales  Australia    APAC  Oceania  ...   \n",
       "2     Consumer         Budapest    Hungary    EMEA     EMEA  ...   \n",
       "3  Home Office        Stockholm     Sweden      EU    North  ...   \n",
       "4     Consumer  New South Wales  Australia    APAC  Oceania  ...   \n",
       "\n",
       "          category sub_category                 product_name    sales  \\\n",
       "0  Office Supplies      Storage          Tenex Lockers, Blue  408.300   \n",
       "1  Office Supplies     Supplies     Acme Trimmer, High Speed  120.366   \n",
       "2  Office Supplies      Storage      Tenex Box, Single Width   66.120   \n",
       "3  Office Supplies        Paper  Enermax Note Cards, Premium   44.865   \n",
       "4        Furniture  Furnishings   Eldon Light Bulb, Duo Pack  113.670   \n",
       "\n",
       "   quantity  discount   profit  shipping_cost  order_priority  year  \n",
       "0         2       0.0  106.140          35.46          Medium  2011  \n",
       "1         3       0.1   36.036           9.72          Medium  2011  \n",
       "2         4       0.0   29.640           8.17            High  2011  \n",
       "3         3       0.5  -26.055           4.82            High  2011  \n",
       "4         5       0.1   37.770           4.70          Medium  2011  \n",
       "\n",
       "[5 rows x 21 columns]"
      ]
     },
     "execution_count": 8,
     "metadata": {},
     "output_type": "execute_result"
    }
   ],
   "source": [
    "# Check what the dataset looks like by viewing the first few rows of the Superstore data\n",
    "df.head()"
   ]
  },
  {
   "cell_type": "code",
   "execution_count": 9,
   "metadata": {},
   "outputs": [
    {
     "data": {
      "text/html": [
       "<div>\n",
       "<style scoped>\n",
       "    .dataframe tbody tr th:only-of-type {\n",
       "        vertical-align: middle;\n",
       "    }\n",
       "\n",
       "    .dataframe tbody tr th {\n",
       "        vertical-align: top;\n",
       "    }\n",
       "\n",
       "    .dataframe thead th {\n",
       "        text-align: right;\n",
       "    }\n",
       "</style>\n",
       "<table border=\"1\" class=\"dataframe\">\n",
       "  <thead>\n",
       "    <tr style=\"text-align: right;\">\n",
       "      <th></th>\n",
       "      <th>order_id</th>\n",
       "      <th>order_date</th>\n",
       "      <th>ship_date</th>\n",
       "      <th>ship_mode</th>\n",
       "      <th>customer_name</th>\n",
       "      <th>segment</th>\n",
       "      <th>state</th>\n",
       "      <th>country</th>\n",
       "      <th>market</th>\n",
       "      <th>region</th>\n",
       "      <th>...</th>\n",
       "      <th>category</th>\n",
       "      <th>sub_category</th>\n",
       "      <th>product_name</th>\n",
       "      <th>sales</th>\n",
       "      <th>quantity</th>\n",
       "      <th>discount</th>\n",
       "      <th>profit</th>\n",
       "      <th>shipping_cost</th>\n",
       "      <th>order_priority</th>\n",
       "      <th>year</th>\n",
       "    </tr>\n",
       "  </thead>\n",
       "  <tbody>\n",
       "    <tr>\n",
       "      <th>51285</th>\n",
       "      <td>CA-2014-115427</td>\n",
       "      <td>2014-12-31</td>\n",
       "      <td>2015-01-04</td>\n",
       "      <td>Standard Class</td>\n",
       "      <td>Erica Bern</td>\n",
       "      <td>Corporate</td>\n",
       "      <td>California</td>\n",
       "      <td>United States</td>\n",
       "      <td>US</td>\n",
       "      <td>West</td>\n",
       "      <td>...</td>\n",
       "      <td>Office Supplies</td>\n",
       "      <td>Binders</td>\n",
       "      <td>Cardinal Slant-D Ring Binder, Heavy Gauge Vinyl</td>\n",
       "      <td>13.904</td>\n",
       "      <td>2</td>\n",
       "      <td>0.2</td>\n",
       "      <td>4.5188</td>\n",
       "      <td>0.890</td>\n",
       "      <td>Medium</td>\n",
       "      <td>2014</td>\n",
       "    </tr>\n",
       "    <tr>\n",
       "      <th>51286</th>\n",
       "      <td>MO-2014-2560</td>\n",
       "      <td>2014-12-31</td>\n",
       "      <td>2015-01-05</td>\n",
       "      <td>Standard Class</td>\n",
       "      <td>Liz Preis</td>\n",
       "      <td>Consumer</td>\n",
       "      <td>Souss-Massa-Draâ</td>\n",
       "      <td>Morocco</td>\n",
       "      <td>Africa</td>\n",
       "      <td>Africa</td>\n",
       "      <td>...</td>\n",
       "      <td>Office Supplies</td>\n",
       "      <td>Binders</td>\n",
       "      <td>Wilson Jones Hole Reinforcements, Clear</td>\n",
       "      <td>3.990</td>\n",
       "      <td>1</td>\n",
       "      <td>0.0</td>\n",
       "      <td>0.4200</td>\n",
       "      <td>0.490</td>\n",
       "      <td>Medium</td>\n",
       "      <td>2014</td>\n",
       "    </tr>\n",
       "    <tr>\n",
       "      <th>51287</th>\n",
       "      <td>MX-2014-110527</td>\n",
       "      <td>2014-12-31</td>\n",
       "      <td>2015-01-02</td>\n",
       "      <td>Second Class</td>\n",
       "      <td>Charlotte Melton</td>\n",
       "      <td>Consumer</td>\n",
       "      <td>Managua</td>\n",
       "      <td>Nicaragua</td>\n",
       "      <td>LATAM</td>\n",
       "      <td>Central</td>\n",
       "      <td>...</td>\n",
       "      <td>Office Supplies</td>\n",
       "      <td>Labels</td>\n",
       "      <td>Hon Color Coded Labels, 5000 Label Set</td>\n",
       "      <td>26.400</td>\n",
       "      <td>3</td>\n",
       "      <td>0.0</td>\n",
       "      <td>12.3600</td>\n",
       "      <td>0.350</td>\n",
       "      <td>Medium</td>\n",
       "      <td>2014</td>\n",
       "    </tr>\n",
       "    <tr>\n",
       "      <th>51288</th>\n",
       "      <td>MX-2014-114783</td>\n",
       "      <td>2014-12-31</td>\n",
       "      <td>2015-01-06</td>\n",
       "      <td>Standard Class</td>\n",
       "      <td>Tamara Dahlen</td>\n",
       "      <td>Consumer</td>\n",
       "      <td>Chihuahua</td>\n",
       "      <td>Mexico</td>\n",
       "      <td>LATAM</td>\n",
       "      <td>North</td>\n",
       "      <td>...</td>\n",
       "      <td>Office Supplies</td>\n",
       "      <td>Labels</td>\n",
       "      <td>Hon Legal Exhibit Labels, Alphabetical</td>\n",
       "      <td>7.120</td>\n",
       "      <td>1</td>\n",
       "      <td>0.0</td>\n",
       "      <td>0.5600</td>\n",
       "      <td>0.199</td>\n",
       "      <td>Medium</td>\n",
       "      <td>2014</td>\n",
       "    </tr>\n",
       "    <tr>\n",
       "      <th>51289</th>\n",
       "      <td>CA-2014-156720</td>\n",
       "      <td>2014-12-31</td>\n",
       "      <td>2015-01-04</td>\n",
       "      <td>Standard Class</td>\n",
       "      <td>Jill Matthias</td>\n",
       "      <td>Consumer</td>\n",
       "      <td>Colorado</td>\n",
       "      <td>United States</td>\n",
       "      <td>US</td>\n",
       "      <td>West</td>\n",
       "      <td>...</td>\n",
       "      <td>Office Supplies</td>\n",
       "      <td>Fasteners</td>\n",
       "      <td>Bagged Rubber Bands</td>\n",
       "      <td>3.024</td>\n",
       "      <td>3</td>\n",
       "      <td>0.2</td>\n",
       "      <td>-0.6048</td>\n",
       "      <td>0.170</td>\n",
       "      <td>Medium</td>\n",
       "      <td>2014</td>\n",
       "    </tr>\n",
       "  </tbody>\n",
       "</table>\n",
       "<p>5 rows × 21 columns</p>\n",
       "</div>"
      ],
      "text/plain": [
       "             order_id order_date  ship_date       ship_mode     customer_name  \\\n",
       "51285  CA-2014-115427 2014-12-31 2015-01-04  Standard Class        Erica Bern   \n",
       "51286    MO-2014-2560 2014-12-31 2015-01-05  Standard Class         Liz Preis   \n",
       "51287  MX-2014-110527 2014-12-31 2015-01-02    Second Class  Charlotte Melton   \n",
       "51288  MX-2014-114783 2014-12-31 2015-01-06  Standard Class     Tamara Dahlen   \n",
       "51289  CA-2014-156720 2014-12-31 2015-01-04  Standard Class     Jill Matthias   \n",
       "\n",
       "         segment             state        country  market   region  ...  \\\n",
       "51285  Corporate        California  United States      US     West  ...   \n",
       "51286   Consumer  Souss-Massa-Draâ        Morocco  Africa   Africa  ...   \n",
       "51287   Consumer           Managua      Nicaragua   LATAM  Central  ...   \n",
       "51288   Consumer         Chihuahua         Mexico   LATAM    North  ...   \n",
       "51289   Consumer          Colorado  United States      US     West  ...   \n",
       "\n",
       "              category sub_category  \\\n",
       "51285  Office Supplies      Binders   \n",
       "51286  Office Supplies      Binders   \n",
       "51287  Office Supplies       Labels   \n",
       "51288  Office Supplies       Labels   \n",
       "51289  Office Supplies    Fasteners   \n",
       "\n",
       "                                          product_name   sales  quantity  \\\n",
       "51285  Cardinal Slant-D Ring Binder, Heavy Gauge Vinyl  13.904         2   \n",
       "51286          Wilson Jones Hole Reinforcements, Clear   3.990         1   \n",
       "51287           Hon Color Coded Labels, 5000 Label Set  26.400         3   \n",
       "51288           Hon Legal Exhibit Labels, Alphabetical   7.120         1   \n",
       "51289                              Bagged Rubber Bands   3.024         3   \n",
       "\n",
       "       discount   profit  shipping_cost  order_priority  year  \n",
       "51285       0.2   4.5188          0.890          Medium  2014  \n",
       "51286       0.0   0.4200          0.490          Medium  2014  \n",
       "51287       0.0  12.3600          0.350          Medium  2014  \n",
       "51288       0.0   0.5600          0.199          Medium  2014  \n",
       "51289       0.2  -0.6048          0.170          Medium  2014  \n",
       "\n",
       "[5 rows x 21 columns]"
      ]
     },
     "execution_count": 9,
     "metadata": {},
     "output_type": "execute_result"
    }
   ],
   "source": [
    "# Check the last few rows of the Superstore data\n",
    "df.tail()"
   ]
  },
  {
   "cell_type": "code",
   "execution_count": 10,
   "metadata": {},
   "outputs": [
    {
     "data": {
      "text/plain": [
       "(51290, 21)"
      ]
     },
     "execution_count": 10,
     "metadata": {},
     "output_type": "execute_result"
    }
   ],
   "source": [
    "# Check the shape the data\n",
    "df.shape"
   ]
  },
  {
   "cell_type": "code",
   "execution_count": 11,
   "metadata": {},
   "outputs": [
    {
     "data": {
      "text/plain": [
       "Index(['order_id', 'order_date', 'ship_date', 'ship_mode', 'customer_name',\n",
       "       'segment', 'state', 'country', 'market', 'region', 'product_id',\n",
       "       'category', 'sub_category', 'product_name', 'sales', 'quantity',\n",
       "       'discount', 'profit', 'shipping_cost', 'order_priority', 'year'],\n",
       "      dtype='object')"
      ]
     },
     "execution_count": 11,
     "metadata": {},
     "output_type": "execute_result"
    }
   ],
   "source": [
    "# Check all information by columns\n",
    "df.columns"
   ]
  },
  {
   "cell_type": "code",
   "execution_count": 12,
   "metadata": {},
   "outputs": [
    {
     "name": "stdout",
     "output_type": "stream",
     "text": [
      "<class 'pandas.core.frame.DataFrame'>\n",
      "RangeIndex: 51290 entries, 0 to 51289\n",
      "Data columns (total 21 columns):\n",
      " #   Column          Non-Null Count  Dtype         \n",
      "---  ------          --------------  -----         \n",
      " 0   order_id        51290 non-null  object        \n",
      " 1   order_date      51290 non-null  datetime64[ns]\n",
      " 2   ship_date       51290 non-null  datetime64[ns]\n",
      " 3   ship_mode       51290 non-null  object        \n",
      " 4   customer_name   51290 non-null  object        \n",
      " 5   segment         51290 non-null  object        \n",
      " 6   state           51290 non-null  object        \n",
      " 7   country         51290 non-null  object        \n",
      " 8   market          51290 non-null  object        \n",
      " 9   region          51290 non-null  object        \n",
      " 10  product_id      51290 non-null  object        \n",
      " 11  category        51290 non-null  object        \n",
      " 12  sub_category    51290 non-null  object        \n",
      " 13  product_name    51290 non-null  object        \n",
      " 14  sales           51290 non-null  float64       \n",
      " 15  quantity        51290 non-null  int64         \n",
      " 16  discount        51290 non-null  float64       \n",
      " 17  profit          51290 non-null  float64       \n",
      " 18  shipping_cost   51290 non-null  float64       \n",
      " 19  order_priority  51290 non-null  object        \n",
      " 20  year            51290 non-null  int64         \n",
      "dtypes: datetime64[ns](2), float64(4), int64(2), object(13)\n",
      "memory usage: 8.2+ MB\n"
     ]
    }
   ],
   "source": [
    "# Summary of the dataset\n",
    "df.info()"
   ]
  },
  {
   "cell_type": "code",
   "execution_count": 13,
   "metadata": {},
   "outputs": [
    {
     "data": {
      "text/plain": [
       "order_id          0\n",
       "order_date        0\n",
       "ship_date         0\n",
       "ship_mode         0\n",
       "customer_name     0\n",
       "segment           0\n",
       "state             0\n",
       "country           0\n",
       "market            0\n",
       "region            0\n",
       "product_id        0\n",
       "category          0\n",
       "sub_category      0\n",
       "product_name      0\n",
       "sales             0\n",
       "quantity          0\n",
       "discount          0\n",
       "profit            0\n",
       "shipping_cost     0\n",
       "order_priority    0\n",
       "year              0\n",
       "dtype: int64"
      ]
     },
     "execution_count": 13,
     "metadata": {},
     "output_type": "execute_result"
    }
   ],
   "source": [
    "# Checking missing values\n",
    "df.isna().sum()"
   ]
  },
  {
   "cell_type": "code",
   "execution_count": 14,
   "metadata": {},
   "outputs": [
    {
     "data": {
      "text/html": [
       "<div>\n",
       "<style scoped>\n",
       "    .dataframe tbody tr th:only-of-type {\n",
       "        vertical-align: middle;\n",
       "    }\n",
       "\n",
       "    .dataframe tbody tr th {\n",
       "        vertical-align: top;\n",
       "    }\n",
       "\n",
       "    .dataframe thead th {\n",
       "        text-align: right;\n",
       "    }\n",
       "</style>\n",
       "<table border=\"1\" class=\"dataframe\">\n",
       "  <thead>\n",
       "    <tr style=\"text-align: right;\">\n",
       "      <th></th>\n",
       "      <th>sales</th>\n",
       "      <th>quantity</th>\n",
       "      <th>discount</th>\n",
       "      <th>profit</th>\n",
       "      <th>shipping_cost</th>\n",
       "      <th>year</th>\n",
       "    </tr>\n",
       "  </thead>\n",
       "  <tbody>\n",
       "    <tr>\n",
       "      <th>count</th>\n",
       "      <td>51290.000000</td>\n",
       "      <td>51290.000000</td>\n",
       "      <td>51290.000000</td>\n",
       "      <td>51290.000000</td>\n",
       "      <td>51290.000000</td>\n",
       "      <td>51290.000000</td>\n",
       "    </tr>\n",
       "    <tr>\n",
       "      <th>mean</th>\n",
       "      <td>246.490581</td>\n",
       "      <td>3.476545</td>\n",
       "      <td>0.142908</td>\n",
       "      <td>28.641740</td>\n",
       "      <td>26.375818</td>\n",
       "      <td>2012.777208</td>\n",
       "    </tr>\n",
       "    <tr>\n",
       "      <th>std</th>\n",
       "      <td>487.565361</td>\n",
       "      <td>2.278766</td>\n",
       "      <td>0.212280</td>\n",
       "      <td>174.424113</td>\n",
       "      <td>57.296810</td>\n",
       "      <td>1.098931</td>\n",
       "    </tr>\n",
       "    <tr>\n",
       "      <th>min</th>\n",
       "      <td>0.444000</td>\n",
       "      <td>1.000000</td>\n",
       "      <td>0.000000</td>\n",
       "      <td>-6599.978000</td>\n",
       "      <td>0.002000</td>\n",
       "      <td>2011.000000</td>\n",
       "    </tr>\n",
       "    <tr>\n",
       "      <th>25%</th>\n",
       "      <td>30.758625</td>\n",
       "      <td>2.000000</td>\n",
       "      <td>0.000000</td>\n",
       "      <td>0.000000</td>\n",
       "      <td>2.610000</td>\n",
       "      <td>2012.000000</td>\n",
       "    </tr>\n",
       "    <tr>\n",
       "      <th>50%</th>\n",
       "      <td>85.053000</td>\n",
       "      <td>3.000000</td>\n",
       "      <td>0.000000</td>\n",
       "      <td>9.240000</td>\n",
       "      <td>7.790000</td>\n",
       "      <td>2013.000000</td>\n",
       "    </tr>\n",
       "    <tr>\n",
       "      <th>75%</th>\n",
       "      <td>251.053200</td>\n",
       "      <td>5.000000</td>\n",
       "      <td>0.200000</td>\n",
       "      <td>36.810000</td>\n",
       "      <td>24.450000</td>\n",
       "      <td>2014.000000</td>\n",
       "    </tr>\n",
       "    <tr>\n",
       "      <th>max</th>\n",
       "      <td>22638.480000</td>\n",
       "      <td>14.000000</td>\n",
       "      <td>0.850000</td>\n",
       "      <td>8399.976000</td>\n",
       "      <td>933.570000</td>\n",
       "      <td>2014.000000</td>\n",
       "    </tr>\n",
       "  </tbody>\n",
       "</table>\n",
       "</div>"
      ],
      "text/plain": [
       "              sales      quantity      discount        profit  shipping_cost  \\\n",
       "count  51290.000000  51290.000000  51290.000000  51290.000000   51290.000000   \n",
       "mean     246.490581      3.476545      0.142908     28.641740      26.375818   \n",
       "std      487.565361      2.278766      0.212280    174.424113      57.296810   \n",
       "min        0.444000      1.000000      0.000000  -6599.978000       0.002000   \n",
       "25%       30.758625      2.000000      0.000000      0.000000       2.610000   \n",
       "50%       85.053000      3.000000      0.000000      9.240000       7.790000   \n",
       "75%      251.053200      5.000000      0.200000     36.810000      24.450000   \n",
       "max    22638.480000     14.000000      0.850000   8399.976000     933.570000   \n",
       "\n",
       "               year  \n",
       "count  51290.000000  \n",
       "mean    2012.777208  \n",
       "std        1.098931  \n",
       "min     2011.000000  \n",
       "25%     2012.000000  \n",
       "50%     2013.000000  \n",
       "75%     2014.000000  \n",
       "max     2014.000000  "
      ]
     },
     "execution_count": 14,
     "metadata": {},
     "output_type": "execute_result"
    }
   ],
   "source": [
    "# Getting descriptive statistics summary\n",
    "df.describe()"
   ]
  },
  {
   "cell_type": "markdown",
   "metadata": {},
   "source": [
    "---"
   ]
  },
  {
   "cell_type": "markdown",
   "metadata": {},
   "source": [
    "<h3> EXPLORATORY DATA ANALYSIS"
   ]
  },
  {
   "cell_type": "markdown",
   "metadata": {},
   "source": [
    "<h4> QUESTION 1: WHAT ARE THE OVERALL SALES TREND?"
   ]
  },
  {
   "cell_type": "code",
   "execution_count": 15,
   "metadata": {},
   "outputs": [
    {
     "data": {
      "text/plain": [
       "Timestamp('2011-01-01 00:00:00')"
      ]
     },
     "execution_count": 15,
     "metadata": {},
     "output_type": "execute_result"
    }
   ],
   "source": [
    "df['order_date'].min()"
   ]
  },
  {
   "cell_type": "code",
   "execution_count": 16,
   "metadata": {},
   "outputs": [
    {
     "data": {
      "text/plain": [
       "Timestamp('2014-12-31 00:00:00')"
      ]
     },
     "execution_count": 16,
     "metadata": {},
     "output_type": "execute_result"
    }
   ],
   "source": [
    "df['order_date'].max()"
   ]
  },
  {
   "cell_type": "code",
   "execution_count": 55,
   "metadata": {},
   "outputs": [],
   "source": [
    "df['month_year'] = df['order_date'].map(lambda x: x.strftime('%Y-%m'))"
   ]
  },
  {
   "cell_type": "code",
   "execution_count": 56,
   "metadata": {},
   "outputs": [],
   "source": [
    "df_sales_trend = df.groupby('month_year')['sales'].sum()"
   ]
  },
  {
   "cell_type": "code",
   "execution_count": 57,
   "metadata": {},
   "outputs": [],
   "source": [
    "df_trend_index = df_sales_trend.reset_index()"
   ]
  },
  {
   "cell_type": "code",
   "execution_count": 58,
   "metadata": {},
   "outputs": [
    {
     "data": {
      "text/html": [
       "<div>\n",
       "<style scoped>\n",
       "    .dataframe tbody tr th:only-of-type {\n",
       "        vertical-align: middle;\n",
       "    }\n",
       "\n",
       "    .dataframe tbody tr th {\n",
       "        vertical-align: top;\n",
       "    }\n",
       "\n",
       "    .dataframe thead th {\n",
       "        text-align: right;\n",
       "    }\n",
       "</style>\n",
       "<table border=\"1\" class=\"dataframe\">\n",
       "  <thead>\n",
       "    <tr style=\"text-align: right;\">\n",
       "      <th></th>\n",
       "      <th>month_year</th>\n",
       "      <th>sales</th>\n",
       "    </tr>\n",
       "  </thead>\n",
       "  <tbody>\n",
       "    <tr>\n",
       "      <th>0</th>\n",
       "      <td>2011-01</td>\n",
       "      <td>98898.48886</td>\n",
       "    </tr>\n",
       "    <tr>\n",
       "      <th>1</th>\n",
       "      <td>2011-02</td>\n",
       "      <td>91152.15698</td>\n",
       "    </tr>\n",
       "    <tr>\n",
       "      <th>2</th>\n",
       "      <td>2011-03</td>\n",
       "      <td>145729.36736</td>\n",
       "    </tr>\n",
       "    <tr>\n",
       "      <th>3</th>\n",
       "      <td>2011-04</td>\n",
       "      <td>116915.76418</td>\n",
       "    </tr>\n",
       "    <tr>\n",
       "      <th>4</th>\n",
       "      <td>2011-05</td>\n",
       "      <td>146747.83610</td>\n",
       "    </tr>\n",
       "  </tbody>\n",
       "</table>\n",
       "</div>"
      ],
      "text/plain": [
       "  month_year         sales\n",
       "0    2011-01   98898.48886\n",
       "1    2011-02   91152.15698\n",
       "2    2011-03  145729.36736\n",
       "3    2011-04  116915.76418\n",
       "4    2011-05  146747.83610"
      ]
     },
     "execution_count": 58,
     "metadata": {},
     "output_type": "execute_result"
    }
   ],
   "source": [
    "df_trend_index.head()"
   ]
  },
  {
   "cell_type": "code",
   "execution_count": 68,
   "metadata": {},
   "outputs": [
    {
     "data": {
      "image/png": "[encoded data removed]",
      "text/plain": [
       "<Figure size 864x432 with 1 Axes>"
      ]
     },
     "metadata": {
      "needs_background": "light"
     },
     "output_type": "display_data"
    }
   ],
   "source": [
    "plt.figure(figsize=(12,6))\n",
    "plt.plot(df_trend_index['month_year'], df_trend_index['sales'], color='b')\n",
    "plt.xticks(rotation=90)\n",
    "plt.show()"
   ]
  },
  {
   "cell_type": "markdown",
   "metadata": {},
   "source": [
    "<h4> QUESTION 2: WHAT ARE THE TOP 10 PRODUCTS BY SALES?"
   ]
  },
  {
   "cell_type": "code",
   "execution_count": 71,
   "metadata": {},
   "outputs": [],
   "source": [
    "df_product = df.groupby('product_name')['sales'].sum().reset_index()"
   ]
  },
  {
   "cell_type": "code",
   "execution_count": 72,
   "metadata": {},
   "outputs": [
    {
     "data": {
      "text/html": [
       "<div>\n",
       "<style scoped>\n",
       "    .dataframe tbody tr th:only-of-type {\n",
       "        vertical-align: middle;\n",
       "    }\n",
       "\n",
       "    .dataframe tbody tr th {\n",
       "        vertical-align: top;\n",
       "    }\n",
       "\n",
       "    .dataframe thead th {\n",
       "        text-align: right;\n",
       "    }\n",
       "</style>\n",
       "<table border=\"1\" class=\"dataframe\">\n",
       "  <thead>\n",
       "    <tr style=\"text-align: right;\">\n",
       "      <th></th>\n",
       "      <th>product_name</th>\n",
       "      <th>sales</th>\n",
       "    </tr>\n",
       "  </thead>\n",
       "  <tbody>\n",
       "    <tr>\n",
       "      <th>0</th>\n",
       "      <td>\"While you Were Out\" Message Book, One Form pe...</td>\n",
       "      <td>25.228</td>\n",
       "    </tr>\n",
       "    <tr>\n",
       "      <th>1</th>\n",
       "      <td>#10 Gummed Flap White Envelopes, 100/Box</td>\n",
       "      <td>41.300</td>\n",
       "    </tr>\n",
       "    <tr>\n",
       "      <th>2</th>\n",
       "      <td>#10 Self-Seal White Envelopes</td>\n",
       "      <td>108.682</td>\n",
       "    </tr>\n",
       "    <tr>\n",
       "      <th>3</th>\n",
       "      <td>#10 White Business Envelopes,4 1/8 x 9 1/2</td>\n",
       "      <td>488.904</td>\n",
       "    </tr>\n",
       "    <tr>\n",
       "      <th>4</th>\n",
       "      <td>#10- 4 1/8\" x 9 1/2\" Recycled Envelopes</td>\n",
       "      <td>286.672</td>\n",
       "    </tr>\n",
       "  </tbody>\n",
       "</table>\n",
       "</div>"
      ],
      "text/plain": [
       "                                        product_name    sales\n",
       "0  \"While you Were Out\" Message Book, One Form pe...   25.228\n",
       "1           #10 Gummed Flap White Envelopes, 100/Box   41.300\n",
       "2                      #10 Self-Seal White Envelopes  108.682\n",
       "3         #10 White Business Envelopes,4 1/8 x 9 1/2  488.904\n",
       "4            #10- 4 1/8\" x 9 1/2\" Recycled Envelopes  286.672"
      ]
     },
     "execution_count": 72,
     "metadata": {},
     "output_type": "execute_result"
    }
   ],
   "source": [
    "df_product.head()"
   ]
  },
  {
   "cell_type": "code",
   "execution_count": 77,
   "metadata": {},
   "outputs": [
    {
     "data": {
      "text/html": [
       "<div>\n",
       "<style scoped>\n",
       "    .dataframe tbody tr th:only-of-type {\n",
       "        vertical-align: middle;\n",
       "    }\n",
       "\n",
       "    .dataframe tbody tr th {\n",
       "        vertical-align: top;\n",
       "    }\n",
       "\n",
       "    .dataframe thead th {\n",
       "        text-align: right;\n",
       "    }\n",
       "</style>\n",
       "<table border=\"1\" class=\"dataframe\">\n",
       "  <thead>\n",
       "    <tr style=\"text-align: right;\">\n",
       "      <th></th>\n",
       "      <th>product_name</th>\n",
       "      <th>sales</th>\n",
       "    </tr>\n",
       "  </thead>\n",
       "  <tbody>\n",
       "    <tr>\n",
       "      <th>310</th>\n",
       "      <td>Apple Smart Phone, Full Size</td>\n",
       "      <td>86935.7786</td>\n",
       "    </tr>\n",
       "    <tr>\n",
       "      <th>970</th>\n",
       "      <td>Cisco Smart Phone, Full Size</td>\n",
       "      <td>76441.5306</td>\n",
       "    </tr>\n",
       "    <tr>\n",
       "      <th>2415</th>\n",
       "      <td>Motorola Smart Phone, Full Size</td>\n",
       "      <td>73156.3030</td>\n",
       "    </tr>\n",
       "    <tr>\n",
       "      <th>2501</th>\n",
       "      <td>Nokia Smart Phone, Full Size</td>\n",
       "      <td>71904.5555</td>\n",
       "    </tr>\n",
       "    <tr>\n",
       "      <th>866</th>\n",
       "      <td>Canon imageCLASS 2200 Advanced Copier</td>\n",
       "      <td>61599.8240</td>\n",
       "    </tr>\n",
       "    <tr>\n",
       "      <th>1837</th>\n",
       "      <td>Hon Executive Leather Armchair, Adjustable</td>\n",
       "      <td>58193.4841</td>\n",
       "    </tr>\n",
       "    <tr>\n",
       "      <th>2631</th>\n",
       "      <td>Office Star Executive Leather Armchair, Adjust...</td>\n",
       "      <td>50661.6840</td>\n",
       "    </tr>\n",
       "    <tr>\n",
       "      <th>1714</th>\n",
       "      <td>Harbour Creations Executive Leather Armchair, ...</td>\n",
       "      <td>50121.5160</td>\n",
       "    </tr>\n",
       "    <tr>\n",
       "      <th>2988</th>\n",
       "      <td>Samsung Smart Phone, Cordless</td>\n",
       "      <td>48653.4600</td>\n",
       "    </tr>\n",
       "    <tr>\n",
       "      <th>2502</th>\n",
       "      <td>Nokia Smart Phone, with Caller ID</td>\n",
       "      <td>47877.7857</td>\n",
       "    </tr>\n",
       "  </tbody>\n",
       "</table>\n",
       "</div>"
      ],
      "text/plain": [
       "                                           product_name       sales\n",
       "310                        Apple Smart Phone, Full Size  86935.7786\n",
       "970                        Cisco Smart Phone, Full Size  76441.5306\n",
       "2415                    Motorola Smart Phone, Full Size  73156.3030\n",
       "2501                       Nokia Smart Phone, Full Size  71904.5555\n",
       "866               Canon imageCLASS 2200 Advanced Copier  61599.8240\n",
       "1837         Hon Executive Leather Armchair, Adjustable  58193.4841\n",
       "2631  Office Star Executive Leather Armchair, Adjust...  50661.6840\n",
       "1714  Harbour Creations Executive Leather Armchair, ...  50121.5160\n",
       "2988                      Samsung Smart Phone, Cordless  48653.4600\n",
       "2502                  Nokia Smart Phone, with Caller ID  47877.7857"
      ]
     },
     "execution_count": 77,
     "metadata": {},
     "output_type": "execute_result"
    }
   ],
   "source": [
    "# Sort sales column in descending order \n",
    "df_product_sorted = df_product.sort_values('sales', ascending = False)\n",
    "\n",
    "# Top 10 products with highest sales\n",
    "df_product_sorted.head(10)"
   ]
  },
  {
   "cell_type": "markdown",
   "metadata": {},
   "source": [
    "<h4> QUESTION 3: WHAT ARE THE MOST SELLING PRODUCTS?"
   ]
  },
  {
   "cell_type": "code",
   "execution_count": 78,
   "metadata": {},
   "outputs": [
    {
     "data": {
      "text/html": [
       "<div>\n",
       "<style scoped>\n",
       "    .dataframe tbody tr th:only-of-type {\n",
       "        vertical-align: middle;\n",
       "    }\n",
       "\n",
       "    .dataframe tbody tr th {\n",
       "        vertical-align: top;\n",
       "    }\n",
       "\n",
       "    .dataframe thead th {\n",
       "        text-align: right;\n",
       "    }\n",
       "</style>\n",
       "<table border=\"1\" class=\"dataframe\">\n",
       "  <thead>\n",
       "    <tr style=\"text-align: right;\">\n",
       "      <th></th>\n",
       "      <th>product_name</th>\n",
       "      <th>quantity</th>\n",
       "    </tr>\n",
       "  </thead>\n",
       "  <tbody>\n",
       "    <tr>\n",
       "      <th>0</th>\n",
       "      <td>\"While you Were Out\" Message Book, One Form pe...</td>\n",
       "      <td>8</td>\n",
       "    </tr>\n",
       "    <tr>\n",
       "      <th>1</th>\n",
       "      <td>#10 Gummed Flap White Envelopes, 100/Box</td>\n",
       "      <td>11</td>\n",
       "    </tr>\n",
       "    <tr>\n",
       "      <th>2</th>\n",
       "      <td>#10 Self-Seal White Envelopes</td>\n",
       "      <td>10</td>\n",
       "    </tr>\n",
       "    <tr>\n",
       "      <th>3</th>\n",
       "      <td>#10 White Business Envelopes,4 1/8 x 9 1/2</td>\n",
       "      <td>32</td>\n",
       "    </tr>\n",
       "    <tr>\n",
       "      <th>4</th>\n",
       "      <td>#10- 4 1/8\" x 9 1/2\" Recycled Envelopes</td>\n",
       "      <td>37</td>\n",
       "    </tr>\n",
       "  </tbody>\n",
       "</table>\n",
       "</div>"
      ],
      "text/plain": [
       "                                        product_name  quantity\n",
       "0  \"While you Were Out\" Message Book, One Form pe...         8\n",
       "1           #10 Gummed Flap White Envelopes, 100/Box        11\n",
       "2                      #10 Self-Seal White Envelopes        10\n",
       "3         #10 White Business Envelopes,4 1/8 x 9 1/2        32\n",
       "4            #10- 4 1/8\" x 9 1/2\" Recycled Envelopes        37"
      ]
     },
     "execution_count": 78,
     "metadata": {},
     "output_type": "execute_result"
    }
   ],
   "source": [
    "# Group by column and aggregate data\n",
    "df_sell = df.groupby('product_name')['quantity'].sum().reset_index()\n",
    "df_sell.head()"
   ]
  },
  {
   "cell_type": "code",
   "execution_count": 80,
   "metadata": {},
   "outputs": [
    {
     "data": {
      "text/html": [
       "<div>\n",
       "<style scoped>\n",
       "    .dataframe tbody tr th:only-of-type {\n",
       "        vertical-align: middle;\n",
       "    }\n",
       "\n",
       "    .dataframe tbody tr th {\n",
       "        vertical-align: top;\n",
       "    }\n",
       "\n",
       "    .dataframe thead th {\n",
       "        text-align: right;\n",
       "    }\n",
       "</style>\n",
       "<table border=\"1\" class=\"dataframe\">\n",
       "  <thead>\n",
       "    <tr style=\"text-align: right;\">\n",
       "      <th></th>\n",
       "      <th>product_name</th>\n",
       "      <th>quantity</th>\n",
       "    </tr>\n",
       "  </thead>\n",
       "  <tbody>\n",
       "    <tr>\n",
       "      <th>3275</th>\n",
       "      <td>Staples</td>\n",
       "      <td>876</td>\n",
       "    </tr>\n",
       "    <tr>\n",
       "      <th>894</th>\n",
       "      <td>Cardinal Index Tab, Clear</td>\n",
       "      <td>337</td>\n",
       "    </tr>\n",
       "    <tr>\n",
       "      <th>1210</th>\n",
       "      <td>Eldon File Cart, Single Width</td>\n",
       "      <td>321</td>\n",
       "    </tr>\n",
       "    <tr>\n",
       "      <th>2840</th>\n",
       "      <td>Rogers File Cart, Single Width</td>\n",
       "      <td>262</td>\n",
       "    </tr>\n",
       "    <tr>\n",
       "      <th>3070</th>\n",
       "      <td>Sanford Pencil Sharpener, Water Color</td>\n",
       "      <td>259</td>\n",
       "    </tr>\n",
       "  </tbody>\n",
       "</table>\n",
       "</div>"
      ],
      "text/plain": [
       "                               product_name  quantity\n",
       "3275                                Staples       876\n",
       "894               Cardinal Index Tab, Clear       337\n",
       "1210          Eldon File Cart, Single Width       321\n",
       "2840         Rogers File Cart, Single Width       262\n",
       "3070  Sanford Pencil Sharpener, Water Color       259"
      ]
     },
     "execution_count": 80,
     "metadata": {},
     "output_type": "execute_result"
    }
   ],
   "source": [
    "# Sort by quantity column\n",
    "df_sell = df_sell.sort_values('quantity', ascending = False)\n",
    "df_sell.head()"
   ]
  },
  {
   "cell_type": "code",
   "execution_count": null,
   "metadata": {},
   "outputs": [],
   "source": []
  }
 ],
 "metadata": {
  "kernelspec": {
   "display_name": "Python 3",
   "language": "python",
   "name": "python3"
  },
  "language_info": {
   "codemirror_mode": {
    "name": "ipython",
    "version": 3
   },
   "file_extension": ".py",
   "mimetype": "text/x-python",
   "name": "python",
   "nbconvert_exporter": "python",
   "pygments_lexer": "ipython3",
   "version": "3.8.5"
  }
 },
 "nbformat": 4,
 "nbformat_minor": 4
}
